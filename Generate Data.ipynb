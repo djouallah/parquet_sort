{
 "cells": [
  {
   "cell_type": "markdown",
   "metadata": {},
   "source": [
    "DuckDB can generate TPCH Dataset, sf = 10 has 60 Million rows, probably it is a good idea to start with a small factor, maybe 1 or 0.5"
   ]
  },
  {
   "cell_type": "code",
   "execution_count": null,
   "metadata": {},
   "outputs": [],
   "source": [
    "%%time\n",
    "import duckdb\n",
    "import pyarrow as pa\n",
    "import pyarrow.dataset as ds\n",
    "table = 'lineitem'\n",
    "sf= 1\n",
    "con = duckdb.connect()\n",
    "con.execute(f\"CALL dbgen(sf={sf});\")\n",
    "con.execute(f\"copy (select * from {table}) to '{table}.parquet' (FORMAT 'PARQUET', CODEC 'ZSTD')\")"
   ]
  },
  {
   "cell_type": "markdown",
   "metadata": {},
   "source": [
    "Sort the Previous file by the field L_shipdate"
   ]
  },
  {
   "cell_type": "code",
   "execution_count": null,
   "metadata": {},
   "outputs": [],
   "source": [
    "%%time\n",
    "import duckdb\n",
    "con = duckdb.connect()\n",
    "con.execute(\"copy (select * from 'lineitem.parquet' order by l_shipdate) to 'lineitem_sorted.parquet' (FORMAT 'PARQUET', CODEC 'ZSTD') \")"
   ]
  }
 ],
 "metadata": {
  "kernelspec": {
   "display_name": "Python 3.10.6 64-bit (system)",
   "language": "python",
   "name": "python3"
  },
  "language_info": {
   "codemirror_mode": {
    "name": "ipython",
    "version": 3
   },
   "file_extension": ".py",
   "mimetype": "text/x-python",
   "name": "python",
   "nbconvert_exporter": "python",
   "pygments_lexer": "ipython3",
   "version": "3.10.6"
  },
  "orig_nbformat": 4,
  "vscode": {
   "interpreter": {
    "hash": "a00db2a08d8e812a7e35133a98e8cfd4141d13fcbd55f5b6e55385387fe8d2b4"
   }
  }
 },
 "nbformat": 4,
 "nbformat_minor": 2
}
